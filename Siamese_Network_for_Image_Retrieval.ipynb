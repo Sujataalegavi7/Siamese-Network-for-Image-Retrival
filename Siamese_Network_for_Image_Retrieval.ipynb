{
  "cells": [
    {
      "cell_type": "code",
      "execution_count": null,
      "metadata": {
        "id": "gRa57LHSw-8d"
      },
      "outputs": [],
      "source": [
        "import torch\n",
        "import torch.nn as nn\n",
        "import torch.optim as optim\n",
        "import torch.nn.functional as F  # Ensure this is imported for pairwise_distance\n",
        "from torch.utils.data import DataLoader, Dataset\n",
        "import torchvision.transforms as transforms\n",
        "import torchvision.datasets as datasets\n",
        "import numpy as np\n",
        "from PIL import Image\n",
        "\n",
        "\n"
      ]
    },
    {
      "cell_type": "code",
      "execution_count": null,
      "metadata": {
        "id": "vfkteFvyxRt1"
      },
      "outputs": [],
      "source": [
        "class SiameseNetwork(nn.Module):\n",
        "    def __init__(self):\n",
        "        super(SiameseNetwork, self).__init__()\n",
        "        self.conv1 = nn.Conv2d(3, 64, kernel_size=3, padding=1)\n",
        "        self.conv2 = nn.Conv2d(64, 128, kernel_size=3, padding=1)\n",
        "        self.conv3 = nn.Conv2d(128, 256, kernel_size=3, padding=1)\n",
        "\n",
        "        # Adjust the input size of fc1 based on the output of conv3 (after pooling and flattening)\n",
        "        self.fc1 = nn.Linear(256 * 4 * 4, 512)  # Adjust based on the output size of conv layers\n",
        "        self.fc2 = nn.Linear(512, 256)\n",
        "\n",
        "    def forward_once(self, x):\n",
        "        x = F.relu(self.conv1(x))\n",
        "        x = F.max_pool2d(x, 2)  # 32x32 -> 16x16\n",
        "        x = F.relu(self.conv2(x))\n",
        "        x = F.max_pool2d(x, 2)  # 16x16 -> 8x8\n",
        "        x = F.relu(self.conv3(x))\n",
        "        x = F.max_pool2d(x, 2)  # 8x8 -> 4x4\n",
        "\n",
        "        x = x.view(x.size(0), -1)  # Flatten the tensor from (256, 4, 4) to (256*4*4)\n",
        "        x = F.relu(self.fc1(x))\n",
        "        x = self.fc2(x)\n",
        "        return x\n",
        "\n",
        "    def forward(self, x1, x2):\n",
        "        output1 = self.forward_once(x1)\n",
        "        output2 = self.forward_once(x2)\n",
        "        return output1, output2\n"
      ]
    },
    {
      "cell_type": "code",
      "execution_count": null,
      "metadata": {
        "id": "sduDBnkRxXc-"
      },
      "outputs": [],
      "source": [
        "class SiameseDataset(Dataset):\n",
        "    def __init__(self, dataset):\n",
        "        self.dataset = dataset\n",
        "\n",
        "    def __getitem__(self, index):\n",
        "        img1, label1 = self.dataset[index]\n",
        "        should_get_same_class = np.random.randint(0, 2)\n",
        "        if should_get_same_class:\n",
        "            while True:\n",
        "                img2, label2 = self.dataset[np.random.randint(0, len(self.dataset))]\n",
        "                if label1 == label2:\n",
        "                    break\n",
        "        else:\n",
        "            while True:\n",
        "                img2, label2 = self.dataset[np.random.randint(0, len(self.dataset))]\n",
        "                if label1 != label2:\n",
        "                    break\n",
        "        return img1, img2, torch.tensor([int(label1 == label2)], dtype=torch.float32)\n",
        "\n",
        "    def __len__(self):\n",
        "        return len(self.dataset)\n"
      ]
    },
    {
      "cell_type": "code",
      "execution_count": null,
      "metadata": {
        "colab": {
          "base_uri": "https://localhost:8080/"
        },
        "id": "ymThdQ_gxbht",
        "outputId": "01204669-731c-42d1-ca37-857a5d6d2ecd"
      },
      "outputs": [
        {
          "name": "stdout",
          "output_type": "stream",
          "text": [
            "Files already downloaded and verified\n"
          ]
        }
      ],
      "source": [
        "transform = transforms.Compose([\n",
        "    transforms.Resize((32, 32)),\n",
        "    transforms.ToTensor(),\n",
        "    transforms.Normalize((0.5, 0.5, 0.5), (0.5, 0.5, 0.5))\n",
        "])\n",
        "\n",
        "# Load CIFAR-10 dataset\n",
        "trainset = datasets.CIFAR10(root='./data', train=True, download=True, transform=transform)\n",
        "train_dataset = SiameseDataset(trainset)\n",
        "train_loader = DataLoader(train_dataset, shuffle=True, batch_size=32)\n",
        "\n",
        "# Use GPU if available\n",
        "device = torch.device(\"cuda\" if torch.cuda.is_available() else \"cpu\")\n",
        "\n",
        "# Initialize the Siamese Network model\n",
        "model = SiameseNetwork().to(device)\n"
      ]
    },
    {
      "cell_type": "code",
      "execution_count": null,
      "metadata": {
        "id": "vZOpyXVHxh68"
      },
      "outputs": [],
      "source": [
        "class ContrastiveLoss(nn.Module):\n",
        "    def __init__(self, margin=1.0):\n",
        "        super(ContrastiveLoss, self).__init__()\n",
        "        self.margin = margin\n",
        "\n",
        "    def forward(self, output1, output2, label):\n",
        "        euclidean_distance = F.pairwise_distance(output1, output2)  # This uses the F alias\n",
        "        loss = torch.mean((1 - label) * torch.pow(euclidean_distance, 2) +\n",
        "                          (label) * torch.pow(torch.clamp(self.margin - euclidean_distance, min=0.0), 2))\n",
        "        return loss\n",
        "\n",
        "# Initialize loss function and optimizer\n",
        "criterion = ContrastiveLoss()\n",
        "optimizer = optim.Adam(model.parameters(), lr=0.001)\n"
      ]
    },
    {
      "cell_type": "code",
      "execution_count": null,
      "metadata": {
        "colab": {
          "base_uri": "https://localhost:8080/"
        },
        "id": "jqdmTts-xl4U",
        "outputId": "49faa22a-e8ae-4210-e989-eee43e05464e"
      },
      "outputs": [
        {
          "name": "stdout",
          "output_type": "stream",
          "text": [
            "Epoch 1/5 started\n",
            "Epoch [1/5], Batch [50/1563], Loss: 0.3147\n",
            "Epoch [1/5], Batch [100/1563], Loss: 0.2922\n",
            "Epoch [1/5], Batch [150/1563], Loss: 0.2842\n",
            "Epoch [1/5], Batch [200/1563], Loss: 0.2806\n",
            "Epoch [1/5], Batch [250/1563], Loss: 0.2772\n",
            "Epoch [1/5], Batch [300/1563], Loss: 0.2744\n",
            "Epoch [1/5], Batch [350/1563], Loss: 0.2732\n",
            "Epoch [1/5], Batch [400/1563], Loss: 0.2718\n",
            "Epoch [1/5], Batch [450/1563], Loss: 0.2709\n",
            "Epoch [1/5], Batch [500/1563], Loss: 0.2701\n",
            "Epoch [1/5], Batch [550/1563], Loss: 0.2690\n",
            "Epoch [1/5], Batch [600/1563], Loss: 0.2683\n",
            "Epoch [1/5], Batch [650/1563], Loss: 0.2674\n",
            "Epoch [1/5], Batch [700/1563], Loss: 0.2671\n",
            "Epoch [1/5], Batch [750/1563], Loss: 0.2669\n",
            "Epoch [1/5], Batch [800/1563], Loss: 0.2666\n",
            "Epoch [1/5], Batch [850/1563], Loss: 0.2666\n",
            "Epoch [1/5], Batch [900/1563], Loss: 0.2664\n",
            "Epoch [1/5], Batch [950/1563], Loss: 0.2660\n",
            "Epoch [1/5], Batch [1000/1563], Loss: 0.2655\n",
            "Epoch [1/5], Batch [1050/1563], Loss: 0.2651\n",
            "Epoch [1/5], Batch [1100/1563], Loss: 0.2647\n",
            "Epoch [1/5], Batch [1150/1563], Loss: 0.2644\n",
            "Epoch [1/5], Batch [1200/1563], Loss: 0.2641\n",
            "Epoch [1/5], Batch [1250/1563], Loss: 0.2640\n",
            "Epoch [1/5], Batch [1300/1563], Loss: 0.2638\n",
            "Epoch [1/5], Batch [1350/1563], Loss: 0.2636\n",
            "Epoch [1/5], Batch [1400/1563], Loss: 0.2634\n",
            "Epoch [1/5], Batch [1450/1563], Loss: 0.2632\n",
            "Epoch [1/5], Batch [1500/1563], Loss: 0.2630\n",
            "Epoch [1/5], Batch [1550/1563], Loss: 0.2628\n",
            "Epoch 1/5 completed. Average Loss: 0.2627\n",
            "\n",
            "Epoch 2/5 started\n",
            "Epoch [2/5], Batch [50/1563], Loss: 0.2575\n",
            "Epoch [2/5], Batch [100/1563], Loss: 0.2572\n",
            "Epoch [2/5], Batch [150/1563], Loss: 0.2568\n",
            "Epoch [2/5], Batch [200/1563], Loss: 0.2575\n",
            "Epoch [2/5], Batch [250/1563], Loss: 0.2576\n",
            "Epoch [2/5], Batch [300/1563], Loss: 0.2574\n",
            "Epoch [2/5], Batch [350/1563], Loss: 0.2574\n",
            "Epoch [2/5], Batch [400/1563], Loss: 0.2572\n",
            "Epoch [2/5], Batch [450/1563], Loss: 0.2574\n",
            "Epoch [2/5], Batch [500/1563], Loss: 0.2576\n",
            "Epoch [2/5], Batch [550/1563], Loss: 0.2576\n",
            "Epoch [2/5], Batch [600/1563], Loss: 0.2576\n",
            "Epoch [2/5], Batch [650/1563], Loss: 0.2576\n",
            "Epoch [2/5], Batch [700/1563], Loss: 0.2575\n",
            "Epoch [2/5], Batch [750/1563], Loss: 0.2573\n",
            "Epoch [2/5], Batch [800/1563], Loss: 0.2572\n",
            "Epoch [2/5], Batch [850/1563], Loss: 0.2571\n",
            "Epoch [2/5], Batch [900/1563], Loss: 0.2571\n",
            "Epoch [2/5], Batch [950/1563], Loss: 0.2570\n",
            "Epoch [2/5], Batch [1000/1563], Loss: 0.2570\n",
            "Epoch [2/5], Batch [1050/1563], Loss: 0.2570\n",
            "Epoch [2/5], Batch [1100/1563], Loss: 0.2570\n",
            "Epoch [2/5], Batch [1150/1563], Loss: 0.2569\n",
            "Epoch [2/5], Batch [1200/1563], Loss: 0.2569\n",
            "Epoch [2/5], Batch [1250/1563], Loss: 0.2569\n",
            "Epoch [2/5], Batch [1300/1563], Loss: 0.2568\n",
            "Epoch [2/5], Batch [1350/1563], Loss: 0.2568\n",
            "Epoch [2/5], Batch [1400/1563], Loss: 0.2567\n",
            "Epoch [2/5], Batch [1450/1563], Loss: 0.2567\n",
            "Epoch [2/5], Batch [1500/1563], Loss: 0.2567\n",
            "Epoch [2/5], Batch [1550/1563], Loss: 0.2568\n",
            "Epoch 2/5 completed. Average Loss: 0.2567\n",
            "\n",
            "Epoch 3/5 started\n",
            "Epoch [3/5], Batch [50/1563], Loss: 0.2561\n",
            "Epoch [3/5], Batch [100/1563], Loss: 0.2566\n",
            "Epoch [3/5], Batch [150/1563], Loss: 0.2561\n",
            "Epoch [3/5], Batch [200/1563], Loss: 0.2563\n",
            "Epoch [3/5], Batch [250/1563], Loss: 0.2562\n",
            "Epoch [3/5], Batch [300/1563], Loss: 0.2560\n",
            "Epoch [3/5], Batch [350/1563], Loss: 0.2566\n",
            "Epoch [3/5], Batch [400/1563], Loss: 0.2565\n",
            "Epoch [3/5], Batch [450/1563], Loss: 0.2567\n",
            "Epoch [3/5], Batch [500/1563], Loss: 0.2565\n",
            "Epoch [3/5], Batch [550/1563], Loss: 0.2563\n",
            "Epoch [3/5], Batch [600/1563], Loss: 0.2562\n",
            "Epoch [3/5], Batch [650/1563], Loss: 0.2564\n",
            "Epoch [3/5], Batch [700/1563], Loss: 0.2564\n",
            "Epoch [3/5], Batch [750/1563], Loss: 0.2563\n",
            "Epoch [3/5], Batch [800/1563], Loss: 0.2563\n",
            "Epoch [3/5], Batch [850/1563], Loss: 0.2563\n",
            "Epoch [3/5], Batch [900/1563], Loss: 0.2564\n",
            "Epoch [3/5], Batch [950/1563], Loss: 0.2564\n",
            "Epoch [3/5], Batch [1000/1563], Loss: 0.2562\n",
            "Epoch [3/5], Batch [1050/1563], Loss: 0.2562\n",
            "Epoch [3/5], Batch [1100/1563], Loss: 0.2562\n",
            "Epoch [3/5], Batch [1150/1563], Loss: 0.2562\n",
            "Epoch [3/5], Batch [1200/1563], Loss: 0.2562\n",
            "Epoch [3/5], Batch [1250/1563], Loss: 0.2562\n",
            "Epoch [3/5], Batch [1300/1563], Loss: 0.2561\n",
            "Epoch [3/5], Batch [1350/1563], Loss: 0.2561\n",
            "Epoch [3/5], Batch [1400/1563], Loss: 0.2561\n",
            "Epoch [3/5], Batch [1450/1563], Loss: 0.2560\n",
            "Epoch [3/5], Batch [1500/1563], Loss: 0.2560\n",
            "Epoch [3/5], Batch [1550/1563], Loss: 0.2560\n",
            "Epoch 3/5 completed. Average Loss: 0.2560\n",
            "\n",
            "Epoch 4/5 started\n",
            "Epoch [4/5], Batch [50/1563], Loss: 0.2555\n",
            "Epoch [4/5], Batch [100/1563], Loss: 0.2557\n",
            "Epoch [4/5], Batch [150/1563], Loss: 0.2560\n",
            "Epoch [4/5], Batch [200/1563], Loss: 0.2558\n",
            "Epoch [4/5], Batch [250/1563], Loss: 0.2558\n",
            "Epoch [4/5], Batch [300/1563], Loss: 0.2558\n",
            "Epoch [4/5], Batch [350/1563], Loss: 0.2556\n",
            "Epoch [4/5], Batch [400/1563], Loss: 0.2554\n",
            "Epoch [4/5], Batch [450/1563], Loss: 0.2555\n",
            "Epoch [4/5], Batch [500/1563], Loss: 0.2554\n",
            "Epoch [4/5], Batch [550/1563], Loss: 0.2554\n",
            "Epoch [4/5], Batch [600/1563], Loss: 0.2554\n",
            "Epoch [4/5], Batch [650/1563], Loss: 0.2554\n",
            "Epoch [4/5], Batch [700/1563], Loss: 0.2554\n",
            "Epoch [4/5], Batch [750/1563], Loss: 0.2553\n",
            "Epoch [4/5], Batch [800/1563], Loss: 0.2552\n",
            "Epoch [4/5], Batch [850/1563], Loss: 0.2552\n",
            "Epoch [4/5], Batch [900/1563], Loss: 0.2553\n",
            "Epoch [4/5], Batch [950/1563], Loss: 0.2552\n",
            "Epoch [4/5], Batch [1000/1563], Loss: 0.2552\n",
            "Epoch [4/5], Batch [1050/1563], Loss: 0.2551\n",
            "Epoch [4/5], Batch [1100/1563], Loss: 0.2551\n",
            "Epoch [4/5], Batch [1150/1563], Loss: 0.2551\n",
            "Epoch [4/5], Batch [1200/1563], Loss: 0.2551\n",
            "Epoch [4/5], Batch [1250/1563], Loss: 0.2550\n",
            "Epoch [4/5], Batch [1300/1563], Loss: 0.2550\n",
            "Epoch [4/5], Batch [1350/1563], Loss: 0.2550\n",
            "Epoch [4/5], Batch [1400/1563], Loss: 0.2550\n",
            "Epoch [4/5], Batch [1450/1563], Loss: 0.2550\n",
            "Epoch [4/5], Batch [1500/1563], Loss: 0.2550\n",
            "Epoch [4/5], Batch [1550/1563], Loss: 0.2550\n",
            "Epoch 4/5 completed. Average Loss: 0.2550\n",
            "\n",
            "Epoch 5/5 started\n",
            "Epoch [5/5], Batch [50/1563], Loss: 0.2561\n",
            "Epoch [5/5], Batch [100/1563], Loss: 0.2553\n",
            "Epoch [5/5], Batch [150/1563], Loss: 0.2549\n",
            "Epoch [5/5], Batch [200/1563], Loss: 0.2547\n",
            "Epoch [5/5], Batch [250/1563], Loss: 0.2548\n",
            "Epoch [5/5], Batch [300/1563], Loss: 0.2545\n",
            "Epoch [5/5], Batch [350/1563], Loss: 0.2545\n",
            "Epoch [5/5], Batch [400/1563], Loss: 0.2545\n",
            "Epoch [5/5], Batch [450/1563], Loss: 0.2546\n",
            "Epoch [5/5], Batch [500/1563], Loss: 0.2546\n",
            "Epoch [5/5], Batch [550/1563], Loss: 0.2545\n",
            "Epoch [5/5], Batch [600/1563], Loss: 0.2546\n",
            "Epoch [5/5], Batch [650/1563], Loss: 0.2547\n",
            "Epoch [5/5], Batch [700/1563], Loss: 0.2547\n",
            "Epoch [5/5], Batch [750/1563], Loss: 0.2547\n",
            "Epoch [5/5], Batch [800/1563], Loss: 0.2547\n",
            "Epoch [5/5], Batch [850/1563], Loss: 0.2547\n",
            "Epoch [5/5], Batch [900/1563], Loss: 0.2548\n",
            "Epoch [5/5], Batch [950/1563], Loss: 0.2548\n",
            "Epoch [5/5], Batch [1000/1563], Loss: 0.2547\n",
            "Epoch [5/5], Batch [1050/1563], Loss: 0.2547\n",
            "Epoch [5/5], Batch [1100/1563], Loss: 0.2546\n",
            "Epoch [5/5], Batch [1150/1563], Loss: 0.2546\n",
            "Epoch [5/5], Batch [1200/1563], Loss: 0.2546\n",
            "Epoch [5/5], Batch [1250/1563], Loss: 0.2546\n",
            "Epoch [5/5], Batch [1300/1563], Loss: 0.2545\n",
            "Epoch [5/5], Batch [1350/1563], Loss: 0.2545\n",
            "Epoch [5/5], Batch [1400/1563], Loss: 0.2546\n",
            "Epoch [5/5], Batch [1450/1563], Loss: 0.2545\n",
            "Epoch [5/5], Batch [1500/1563], Loss: 0.2545\n",
            "Epoch [5/5], Batch [1550/1563], Loss: 0.2545\n",
            "Epoch 5/5 completed. Average Loss: 0.2545\n",
            "\n"
          ]
        }
      ],
      "source": [
        "def train_model(model, train_loader, criterion, optimizer, epochs=5):\n",
        "    model.train()\n",
        "    for epoch in range(epochs):\n",
        "        print(f\"Epoch {epoch+1}/{epochs} started\")\n",
        "        running_loss = 0.0\n",
        "        for batch_idx, (img1, img2, label) in enumerate(train_loader):\n",
        "            img1, img2, label = img1.to(device), img2.to(device), label.to(device)\n",
        "\n",
        "            optimizer.zero_grad()\n",
        "\n",
        "            output1, output2 = model(img1, img2)\n",
        "            loss = criterion(output1, output2, label)\n",
        "\n",
        "            loss.backward()\n",
        "            optimizer.step()\n",
        "\n",
        "            running_loss += loss.item()\n",
        "\n",
        "            if (batch_idx + 1) % 50 == 0:\n",
        "                print(f'Epoch [{epoch+1}/{epochs}], Batch [{batch_idx+1}/{len(train_loader)}], Loss: {running_loss/(batch_idx+1):.4f}')\n",
        "\n",
        "        print(f\"Epoch {epoch+1}/{epochs} completed. Average Loss: {running_loss/len(train_loader):.4f}\\n\")\n",
        "\n",
        "# Run the training process\n",
        "train_model(model, train_loader, criterion, optimizer, epochs=5)\n"
      ]
    },
    {
      "cell_type": "code",
      "execution_count": null,
      "metadata": {
        "id": "numTH_seI4nZ"
      },
      "outputs": [],
      "source": [
        "transform = transforms.Compose([\n",
        "    transforms.Resize((32, 32)),\n",
        "    transforms.RandomHorizontalFlip(),  # Data augmentation\n",
        "    transforms.ToTensor(),\n",
        "    transforms.Normalize((0.5, 0.5, 0.5), (0.5, 0.5, 0.5))\n",
        "])\n"
      ]
    },
    {
      "cell_type": "code",
      "execution_count": null,
      "metadata": {
        "colab": {
          "base_uri": "https://localhost:8080/"
        },
        "id": "ya-U_tmgML5w",
        "outputId": "379252b1-81ae-4111-aba7-c5259b3b0a7c"
      },
      "outputs": [
        {
          "name": "stdout",
          "output_type": "stream",
          "text": [
            "Files already downloaded and verified\n",
            "Testing Accuracy: 50.08%\n"
          ]
        },
        {
          "data": {
            "text/plain": [
              "50.08"
            ]
          },
          "execution_count": 54,
          "metadata": {},
          "output_type": "execute_result"
        }
      ],
      "source": [
        "# Create a DataLoader for testing\n",
        "test_dataset = datasets.CIFAR10(root='./data', train=False, download=True, transform=transform)\n",
        "test_dataset = SiameseDataset(test_dataset)\n",
        "test_loader = DataLoader(test_dataset, shuffle=False, batch_size=32)\n",
        "\n",
        "# Testing function\n",
        "def test_model(model, test_loader, threshold=1.0):\n",
        "    model.eval()  # Set model to evaluation mode\n",
        "    correct = 0\n",
        "    total = 0\n",
        "\n",
        "    with torch.no_grad():  # Disable gradient calculations\n",
        "        for img1, img2, label in test_loader:\n",
        "            img1, img2, label = img1.to(device), img2.to(device), label.to(device)\n",
        "\n",
        "            output1, output2 = model(img1, img2)\n",
        "            euclidean_distance = F.pairwise_distance(output1, output2)\n",
        "\n",
        "            # Determine predictions based on the threshold\n",
        "            predictions = (euclidean_distance < threshold).float().view(-1)\n",
        "\n",
        "            correct += (predictions == label.view(-1)).sum().item()\n",
        "            total += label.size(0)\n",
        "\n",
        "    accuracy = 100 * correct / total\n",
        "    print(f'Testing Accuracy: {accuracy:.2f}%')\n",
        "    return accuracy\n",
        "\n",
        "# Call the testing function after training\n",
        "test_model(model, test_loader, threshold=1.0)\n"
      ]
    },
    {
      "cell_type": "code",
      "execution_count": null,
      "metadata": {
        "id": "pXt6Z6TAYfj9"
      },
      "outputs": [],
      "source": [
        "import matplotlib.pyplot as plt\n"
      ]
    },
    {
      "cell_type": "code",
      "execution_count": null,
      "metadata": {
        "id": "goH9-tAhYlw3"
      },
      "outputs": [],
      "source": [
        "def visualize_image_retrieval(model, dataset, class1_idx, class2_idx, num_images=5):\n",
        "    model.eval()\n",
        "\n",
        "    # Get images and labels for the selected classes\n",
        "    class1_images = [i for i, (_, label) in enumerate(dataset) if label == class1_idx]\n",
        "    class2_images = [i for i, (_, label) in enumerate(dataset) if label == class2_idx]\n",
        "\n",
        "    # Randomly select images from the classes\n",
        "    selected_class1_images = np.random.choice(class1_images, num_images, replace=False)\n",
        "    selected_class2_images = np.random.choice(class2_images, num_images, replace=False)\n",
        "\n",
        "    # Prepare to plot images\n",
        "    fig, axes = plt.subplots(num_images, 2, figsize=(8, num_images * 2))\n",
        "\n",
        "    for i in range(num_images):\n",
        "        img1_index = selected_class1_images[i]\n",
        "        img2_index = selected_class2_images[i]\n",
        "\n",
        "        # Get images and labels\n",
        "        img1, label1 = dataset[img1_index]\n",
        "        img2, label2 = dataset[img2_index]\n",
        "\n",
        "        # Transform images to the required format (if needed)\n",
        "        img1 = img1.unsqueeze(0).to(device)  # Add batch dimension and move to device\n",
        "        img2 = img2.unsqueeze(0).to(device)  # Add batch dimension and move to device\n",
        "\n",
        "        # Get feature outputs from the model\n",
        "        output1, output2 = model(img1, img2)\n",
        "\n",
        "        # Calculate Euclidean distance\n",
        "        euclidean_distance = F.pairwise_distance(output1, output2).item()  # Convert to scalar\n",
        "\n",
        "        # Convert images back to CPU for visualization\n",
        "        img1 = img1.squeeze(0).cpu().detach().numpy()\n",
        "        img2 = img2.squeeze(0).cpu().detach().numpy()\n",
        "\n",
        "        # Plot the images\n",
        "        axes[i, 0].imshow(np.transpose(img1, (1, 2, 0)))  # Transpose to (H, W, C)\n",
        "        axes[i, 0].set_title(f'Image 1 (Label: {label1})')\n",
        "        axes[i, 0].axis('off')\n",
        "\n",
        "        axes[i, 1].imshow(np.transpose(img2, (1, 2, 0)))\n",
        "        axes[i, 1].set_title(f'Image 2 (Label: {label2})')\n",
        "        axes[i, 1].axis('off')\n",
        "\n",
        "    plt.suptitle(f'Euclidean Distances for {num_images} Image Pairs')\n",
        "    plt.show()\n"
      ]
    },
    {
      "cell_type": "code",
      "execution_count": null,
      "metadata": {
        "colab": {
          "background_save": true,
          "base_uri": "https://localhost:8080/",
          "height": 490
        },
        "id": "oGHupsdeYtcV",
        "outputId": "1b9dc6bd-9b50-4c87-93db-f1d1cbfd6812"
      },
      "outputs": [
        {
          "name": "stderr",
          "output_type": "stream",
          "text": [
            "WARNING:matplotlib.image:Clipping input data to the valid range for imshow with RGB data ([0..1] for floats or [0..255] for integers).\n",
            "WARNING:matplotlib.image:Clipping input data to the valid range for imshow with RGB data ([0..1] for floats or [0..255] for integers).\n",
            "WARNING:matplotlib.image:Clipping input data to the valid range for imshow with RGB data ([0..1] for floats or [0..255] for integers).\n",
            "WARNING:matplotlib.image:Clipping input data to the valid range for imshow with RGB data ([0..1] for floats or [0..255] for integers).\n",
            "WARNING:matplotlib.image:Clipping input data to the valid range for imshow with RGB data ([0..1] for floats or [0..255] for integers).\n",
            "WARNING:matplotlib.image:Clipping input data to the valid range for imshow with RGB data ([0..1] for floats or [0..255] for integers).\n",
            "WARNING:matplotlib.image:Clipping input data to the valid range for imshow with RGB data ([0..1] for floats or [0..255] for integers).\n",
            "WARNING:matplotlib.image:Clipping input data to the valid range for imshow with RGB data ([0..1] for floats or [0..255] for integers).\n",
            "WARNING:matplotlib.image:Clipping input data to the valid range for imshow with RGB data ([0..1] for floats or [0..255] for integers).\n",
            "WARNING:matplotlib.image:Clipping input data to the valid range for imshow with RGB data ([0..1] for floats or [0..255] for integers).\n"
          ]
        },
        {
          "data": {
            "image/png": "[encoded data removed]",
            "text/plain": [
              "<Figure size 800x1000 with 10 Axes>"
            ]
          },
          "metadata": {},
          "output_type": "display_data"
        }
      ],
      "source": [
        "# Assuming you have a dataset variable defined\n",
        "visualize_image_retrieval(model, trainset, index1=0, index2=1)  # Change indices as needed\n"
      ]
    }
  ],
  "metadata": {
    "colab": {
      "provenance": []
    },
    "kernelspec": {
      "display_name": "Python 3",
      "name": "python3"
    },
    "language_info": {
      "name": "python"
    }
  },
  "nbformat": 4,
  "nbformat_minor": 0
}